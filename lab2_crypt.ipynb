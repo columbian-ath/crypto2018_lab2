{
 "cells": [
  {
   "cell_type": "code",
   "execution_count": 1,
   "metadata": {},
   "outputs": [],
   "source": [
    "from collections import Counter\n"
   ]
  },
  {
   "cell_type": "markdown",
   "metadata": {},
   "source": [
    "                                    Directory structure:\n",
    "Initial files:\n",
    "    - lab2_crypt.ipynb - current notebook with second lab\n",
    "    - neznaika.txt - user text to count Index of coincidence for russian language\n",
    "    - variant13_raw.txt - ciphered text that we have to dechipher of variant 13\n",
    "Files/dirs created during working with curren`t notebook:\n",
    "    - dir encoded:\n",
    "        -- ../'vigener_res{}.txt'.format(key_len) - encoded text from 'neznaika.txt' with key of length key_len from dictionary key_dict\n",
    "    - variant13.txt - a little preprocessing of 'variant13_raw.txt', getting rid of '\\n' symbol\n",
    "    - 'vigener_check_decode{}.txt'.format(key_len) - decoded text with key of length key_len "
   ]
  },
  {
   "cell_type": "markdown",
   "metadata": {},
   "source": [
    "Preprocessing is essential to make rid of punctuation, uppercase and spaces. We also change 'ё' to 'е'"
   ]
  },
  {
   "cell_type": "code",
   "execution_count": 2,
   "metadata": {},
   "outputs": [],
   "source": [
    "def preprocess(path):\n",
    "    '''Leaves only lowercase russian chars without spaces'''\n",
    "    newpath='lab2_prep.txt'\n",
    "    alph='абвгдеёжзийклмнопрстуфхцчшщъыьэюя'\n",
    "    with open(path, 'r') as infile, \\\n",
    "     open(newpath, 'w') as outfile:\n",
    "        data = infile.read()\n",
    "        data = data.lower()\n",
    "        data = data.replace('ё', 'e')\n",
    "        result=''\n",
    "        for char in data:\n",
    "            if char in alph:\n",
    "                result+=char\n",
    "        #sanity check (may be less than 32 if some rare symbols are missing)\n",
    "        assert len(set(result)) <= 32 \n",
    "        outfile.write(result)"
   ]
  },
  {
   "cell_type": "code",
   "execution_count": 3,
   "metadata": {},
   "outputs": [],
   "source": [
    "preprocess('neznaika.txt')"
   ]
  },
  {
   "cell_type": "markdown",
   "metadata": {},
   "source": [
    "Constants for lab"
   ]
  },
  {
   "cell_type": "code",
   "execution_count": 4,
   "metadata": {},
   "outputs": [],
   "source": [
    "#dictionary of format \"len of a key: key\"\n",
    "key_dict = {\n",
    "    2: 'он',\n",
    "    3: 'сок',\n",
    "    4: 'вино',\n",
    "    5: 'каток',\n",
    "    17: 'будькакдомапутник',\n",
    "}"
   ]
  },
  {
   "cell_type": "code",
   "execution_count": 5,
   "metadata": {},
   "outputs": [],
   "source": [
    "alph='абвгдежзийклмнопрстуфхцчшщъыьэюя'"
   ]
  },
  {
   "cell_type": "markdown",
   "metadata": {},
   "source": [
    "Vigenère cipher"
   ]
  },
  {
   "cell_type": "code",
   "execution_count": 6,
   "metadata": {},
   "outputs": [],
   "source": [
    "def vigener(path, key_len):\n",
    "    '''Creates encoded text from plain text using key from key_dict with len key_len'''\n",
    "    key = key_dict[key_len]\n",
    "    with open(path, 'r') as infile, \\\n",
    "    open('encoded/vigener_res{}.txt'.format(key_len), 'w') as outfile:\n",
    "        data = infile.read()\n",
    "        result=''\n",
    "        for i, char in enumerate(data):\n",
    "            char = alph[(alph.find(char) + alph.find(key[i % len(key)])) % len(alph)]\n",
    "            result+=char\n",
    "        outfile.write(result)"
   ]
  },
  {
   "cell_type": "code",
   "execution_count": 7,
   "metadata": {},
   "outputs": [],
   "source": [
    "vigener('lab2_prep.txt', 4)"
   ]
  },
  {
   "cell_type": "markdown",
   "metadata": {},
   "source": [
    "Decoding function to make sure everything is going OK"
   ]
  },
  {
   "cell_type": "code",
   "execution_count": 8,
   "metadata": {},
   "outputs": [],
   "source": [
    "def decode_vigener(path, key, print_text=False):\n",
    "    '''Decode vigener !WITH KNOWN KEY!'''\n",
    "    with open(path, 'r') as infile, \\\n",
    "    open('vigener_check_decode{}.txt'.format(len(key)), 'w') as outfile:\n",
    "        data = infile.read()\n",
    "        result=''\n",
    "        for i, char in enumerate(data):\n",
    "            char =  alph[alph.find(char) - alph.find(key[i % len(key)])]\n",
    "            result += char\n",
    "        outfile.write(result)\n",
    "    if print_text:\n",
    "        print(result)"
   ]
  },
  {
   "cell_type": "code",
   "execution_count": 9,
   "metadata": {},
   "outputs": [],
   "source": [
    "decode_vigener('encoded/vigener_res4.txt', 'вино')"
   ]
  },
  {
   "cell_type": "markdown",
   "metadata": {},
   "source": [
    "Applying vigener using all keys we have (results are in dir 'encoded')"
   ]
  },
  {
   "cell_type": "code",
   "execution_count": 10,
   "metadata": {},
   "outputs": [],
   "source": [
    "for key_len in key_dict.keys():\n",
    "    vigener('lab2_prep.txt', key_len)"
   ]
  },
  {
   "cell_type": "markdown",
   "metadata": {},
   "source": [
    "Counting Index of coincidence (effective for small r (2 <= r <= 5)). For bigger r we prefer to use symbol coincidence statistics"
   ]
  },
  {
   "cell_type": "code",
   "execution_count": 11,
   "metadata": {},
   "outputs": [],
   "source": [
    "def coincidence_count(path):\n",
    "    with open(path, 'r') as infile:\n",
    "        data = infile.read()\n",
    "        n = len(data)\n",
    "        counter = Counter(data) #count number of occurences of each letter in text\n",
    "    index = sum([counter[i]* (counter[i]-1) for i in counter.keys()]) / (n * (n-1))\n",
    "    return index \n",
    "    "
   ]
  },
  {
   "cell_type": "markdown",
   "metadata": {},
   "source": [
    "Counting coincidence index of user text"
   ]
  },
  {
   "cell_type": "code",
   "execution_count": 12,
   "metadata": {},
   "outputs": [
    {
     "data": {
      "text/plain": [
       "0.058285657003133866"
      ]
     },
     "execution_count": 12,
     "metadata": {},
     "output_type": "execute_result"
    }
   ],
   "source": [
    "coincidence_count('neznaika.txt')"
   ]
  },
  {
   "cell_type": "markdown",
   "metadata": {},
   "source": [
    "Counting coincidence index of user text, encoded with different keys"
   ]
  },
  {
   "cell_type": "code",
   "execution_count": 13,
   "metadata": {},
   "outputs": [
    {
     "name": "stdout",
     "output_type": "stream",
     "text": [
      "Length of key: 2, coincidence index: 0.04535229303713382\n",
      "Length of key: 3, coincidence index: 0.04030504957234696\n",
      "Length of key: 4, coincidence index: 0.03707842237387874\n",
      "Length of key: 5, coincidence index: 0.03790313145538461\n",
      "Length of key: 17, coincidence index: 0.03365344974743112\n"
     ]
    }
   ],
   "source": [
    "for key_len in key_dict.keys():\n",
    "    result = coincidence_count('encoded/vigener_res{}.txt'.format(key_len))\n",
    "    print('Length of key: {}, coincidence index: {}'.format(key_len, result))"
   ]
  },
  {
   "cell_type": "markdown",
   "metadata": {},
   "source": [
    "Starting working with raw file (but we have to get rid of '\\n' symbol at first)"
   ]
  },
  {
   "cell_type": "code",
   "execution_count": 14,
   "metadata": {},
   "outputs": [
    {
     "name": "stdout",
     "output_type": "stream",
     "text": [
      "Counter({'н': 270, 'х': 252, 'т': 243, 'у': 237, 'р': 235, 'ц': 217, 'п': 208, 'м': 187, 'ш': 184, 'щ': 182, 'ы': 171, 'о': 169, 'к': 162, 'и': 162, 'й': 160, 'ъ': 160, 'а': 157, 'с': 154, 'ч': 152, 'ь': 151, 'ф': 151, 'л': 150, 'ю': 141, 'д': 137, 'е': 136, 'я': 135, 'з': 132, 'б': 122, 'э': 117, 'в': 110, 'г': 109, 'ж': 98})\n"
     ]
    }
   ],
   "source": [
    "with open('variant13_raw.txt', 'r') as infile, \\\n",
    "     open('variant13.txt', 'w') as outfile:\n",
    "        data = infile.read()\n",
    "        data = data.replace('\\n', '')\n",
    "        print(Counter(data))\n",
    "        outfile.write(data)"
   ]
  },
  {
   "cell_type": "markdown",
   "metadata": {},
   "source": [
    "As we see, r seems to be much larger then 5. Or even possibly larger than 17(?). So Coincidence count seems to be not the most efficient way here."
   ]
  },
  {
   "cell_type": "code",
   "execution_count": 15,
   "metadata": {},
   "outputs": [
    {
     "data": {
      "text/plain": [
       "0.033177901938147646"
      ]
     },
     "execution_count": 15,
     "metadata": {},
     "output_type": "execute_result"
    }
   ],
   "source": [
    "coincidence_count('variant13.txt')"
   ]
  },
  {
   "cell_type": "markdown",
   "metadata": {},
   "source": [
    "Symbol_statistics shows how often letters are the same on distance r. The more they are, the bigger the chance that we have found the real r."
   ]
  },
  {
   "cell_type": "code",
   "execution_count": 16,
   "metadata": {},
   "outputs": [],
   "source": [
    "def symbol_statistics(path, r):\n",
    "    with open(path, 'r') as infile:\n",
    "        data = infile.read()\n",
    "        n = len(data)\n",
    "        result = 0\n",
    "        for i in range (n-r):\n",
    "            if data[i] == data[i+r]:\n",
    "                result += 1\n",
    "    return result"
   ]
  },
  {
   "cell_type": "code",
   "execution_count": 17,
   "metadata": {},
   "outputs": [
    {
     "name": "stdout",
     "output_type": "stream",
     "text": [
      "Length of key(r): 6, symbol statistics(coincidence): 158\n",
      "Length of key(r): 7, symbol statistics(coincidence): 150\n",
      "Length of key(r): 8, symbol statistics(coincidence): 183\n",
      "Length of key(r): 9, symbol statistics(coincidence): 182\n",
      "Length of key(r): 10, symbol statistics(coincidence): 195\n",
      "Length of key(r): 11, symbol statistics(coincidence): 170\n",
      "Length of key(r): 12, symbol statistics(coincidence): 197\n",
      "Length of key(r): 13, symbol statistics(coincidence): 181\n",
      "Length of key(r): 14, symbol statistics(coincidence): 154\n",
      "Length of key(r): 15, symbol statistics(coincidence): 182\n",
      "Length of key(r): 16, symbol statistics(coincidence): 155\n",
      "Length of key(r): 17, symbol statistics(coincidence): 288\n",
      "Length of key(r): 18, symbol statistics(coincidence): 151\n",
      "Length of key(r): 19, symbol statistics(coincidence): 158\n",
      "Length of key(r): 20, symbol statistics(coincidence): 171\n",
      "Length of key(r): 21, symbol statistics(coincidence): 156\n",
      "Length of key(r): 22, symbol statistics(coincidence): 189\n",
      "Length of key(r): 23, symbol statistics(coincidence): 180\n",
      "Length of key(r): 24, symbol statistics(coincidence): 173\n",
      "Length of key(r): 25, symbol statistics(coincidence): 192\n",
      "Length of key(r): 26, symbol statistics(coincidence): 187\n",
      "Length of key(r): 27, symbol statistics(coincidence): 165\n",
      "Length of key(r): 28, symbol statistics(coincidence): 180\n",
      "Length of key(r): 29, symbol statistics(coincidence): 189\n",
      "Length of key(r): 30, symbol statistics(coincidence): 172\n"
     ]
    }
   ],
   "source": [
    "for r in range (6, 31):\n",
    "    result = symbol_statistics('variant13.txt', r)\n",
    "    print('Length of key(r): {}, symbol statistics(coincidence): {}'.format(r, result))"
   ]
  },
  {
   "cell_type": "markdown",
   "metadata": {},
   "source": [
    "It seems that r = 17 shows the result we have expected. The symbol statistics of r=17 is >> than other symbol statistics. To check this, lets check some random numbers >30 and several numbers that divide by 17 without remainders"
   ]
  },
  {
   "cell_type": "code",
   "execution_count": 18,
   "metadata": {},
   "outputs": [
    {
     "name": "stdout",
     "output_type": "stream",
     "text": [
      "Length of key(r): 17, symbol statistics(coincidence): 288\n",
      "Length of key(r): 34, symbol statistics(coincidence): 341\n",
      "Length of key(r): 51, symbol statistics(coincidence): 340\n",
      "Length of key(r): 68, symbol statistics(coincidence): 324\n"
     ]
    }
   ],
   "source": [
    "for r in [17, 17*2, 17*3, 17*4]:\n",
    "    result = symbol_statistics('variant13.txt', r)\n",
    "    print('Length of key(r): {}, symbol statistics(coincidence): {}'.format(r, result))"
   ]
  },
  {
   "cell_type": "code",
   "execution_count": 19,
   "metadata": {},
   "outputs": [
    {
     "name": "stdout",
     "output_type": "stream",
     "text": [
      "Length of key(r): 40, symbol statistics(coincidence): 150\n",
      "Length of key(r): 54, symbol statistics(coincidence): 175\n",
      "Length of key(r): 66, symbol statistics(coincidence): 161\n"
     ]
    }
   ],
   "source": [
    "for r in [17*2+6, 17*3+3, 17*3+15]:\n",
    "    result = symbol_statistics('variant13.txt', r)\n",
    "    print('Length of key(r): {}, symbol statistics(coincidence): {}'.format(r, result))"
   ]
  },
  {
   "cell_type": "markdown",
   "metadata": {},
   "source": [
    "Well, it works. For r =17 results are much higher."
   ]
  },
  {
   "cell_type": "markdown",
   "metadata": {},
   "source": [
    "Counting the frequency of each letter in user text to understand the possible frequency of words in ciphertext"
   ]
  },
  {
   "cell_type": "code",
   "execution_count": 20,
   "metadata": {},
   "outputs": [
    {
     "data": {
      "text/plain": [
       "[('о', 737),\n",
       " ('а', 551),\n",
       " ('е', 487),\n",
       " ('и', 480),\n",
       " ('н', 412),\n",
       " ('л', 410),\n",
       " ('т', 374),\n",
       " ('с', 328),\n",
       " ('к', 323),\n",
       " ('р', 248),\n",
       " ('в', 230),\n",
       " ('м', 225),\n",
       " ('у', 200),\n",
       " ('ы', 190),\n",
       " ('д', 168),\n",
       " ('з', 136),\n",
       " ('б', 126),\n",
       " ('п', 126),\n",
       " ('ь', 119),\n",
       " ('г', 109),\n",
       " ('ч', 105),\n",
       " ('й', 101),\n",
       " ('ш', 95),\n",
       " ('я', 94),\n",
       " ('ж', 59),\n",
       " ('х', 48),\n",
       " ('ц', 43),\n",
       " ('ю', 37),\n",
       " ('э', 24),\n",
       " ('щ', 13),\n",
       " ('ф', 1)]"
      ]
     },
     "execution_count": 20,
     "metadata": {},
     "output_type": "execute_result"
    }
   ],
   "source": [
    "with open('lab2_prep.txt', 'r') as infile:\n",
    "        data = infile.read()\n",
    "        russian_freq = Counter(data)\n",
    "russian_freq = sorted(russian_freq.items(), key=lambda item: (-item[1], item[0]))\n",
    "russian_freq"
   ]
  },
  {
   "cell_type": "markdown",
   "metadata": {},
   "source": [
    "We will try to find key of length 17 using statistics russian_freq"
   ]
  },
  {
   "cell_type": "code",
   "execution_count": 21,
   "metadata": {},
   "outputs": [],
   "source": [
    "def key_finder(path, r, debug = False, debug_var = 2):\n",
    "    '''Finds the most possible key of given length r.\n",
    "       If debug == True, looks for the second most frequent value in each block and, \n",
    "       if the difference between most frequent value and second most frequent value is <= debug_var, \n",
    "       considers second value as the most possible for now'''\n",
    "    with open(path, 'r') as infile:\n",
    "        data = infile.read()\n",
    "        n = len(data)\n",
    "        key = ''\n",
    "        if debug:\n",
    "            #we have r blocks\n",
    "            for block_num in range(r):\n",
    "                #in the r-th block we have every r-th symbol starting from number of block\n",
    "                text = [data[i] for i in range(block_num, n, r )] \n",
    "                block_freq = Counter(text)\n",
    "                #showing frequencies of symbols in the block\n",
    "                block_freq = sorted(block_freq.items(), key=lambda item: (-item[1], item[0]))\n",
    "                #if frequency of the most frequent letter in block is just SLIGHTLY higher \n",
    "                #than frequency of second most freq letter\n",
    "                if ((block_freq[0][1] - block_freq[1][1]) <= debug_var):\n",
    "                    key += alph[abs((alph.find(block_freq[1][0]) - alph.find(russian_freq[0][0])) % len(alph))]\n",
    "                else:\n",
    "                    key += alph[abs((alph.find(block_freq[0][0]) - alph.find(russian_freq[0][0])) % len(alph))]\n",
    "        else:\n",
    "            for block_num in range(r):\n",
    "                text = [data[i] for i in range(block_num, n, r )] \n",
    "                block_freq = Counter(text)\n",
    "                print(block_freq)\n",
    "                block_freq = sorted(block_freq.items(), key=lambda item: (-item[1], item[0]))\n",
    "                key += alph[abs((alph.find(block_freq[0][0]) - alph.find(russian_freq[0][0])) % len(alph))]\n",
    "    return key"
   ]
  },
  {
   "cell_type": "code",
   "execution_count": 22,
   "metadata": {},
   "outputs": [
    {
     "name": "stdout",
     "output_type": "stream",
     "text": [
      "Counter({'ю': 39, 'х': 22, 'р': 20, 'б': 19, 'в': 19, 'э': 17, 'ш': 16, 'ы': 16, 'а': 14, 'г': 13, 'ъ': 13, 'ь': 12, 'ф': 12, 'л': 10, 'т': 9, 'п': 8, 'м': 8, 'я': 8, 'у': 7, 'с': 6, 'ц': 4, 'з': 4, 'е': 4, 'и': 4, 'ч': 3, 'о': 3, 'й': 2, 'ж': 2, 'н': 1})\n",
      "Counter({'у': 36, 'ь': 30, 'ы': 21, 'ц': 21, 'о': 21, 'щ': 20, 'р': 18, 'а': 17, 'ш': 14, 'ю': 13, 'э': 11, 'ъ': 9, 'я': 9, 'т': 9, 'н': 8, 'к': 8, 'п': 7, 'б': 6, 'ф': 5, 'е': 5, 'ж': 5, 'й': 4, 'с': 4, 'х': 4, 'з': 3, 'л': 2, 'м': 2, 'в': 2, 'г': 1})\n",
      "Counter({'й': 32, 'т': 30, 'с': 26, 'д': 25, 'х': 19, 'ф': 18, 'ц': 17, 'п': 15, 'ж': 15, 'м': 14, 'ч': 14, 'о': 12, 'н': 9, 'г': 8, 'и': 7, 'у': 7, 'е': 7, 'р': 6, 'я': 5, 'з': 5, 'л': 4, 'щ': 4, 'а': 4, 'б': 3, 'э': 2, 'ы': 2, 'к': 2, 'в': 2, 'ь': 1})\n",
      "Counter({'ц': 39, 'н': 28, 'х': 26, 'у': 25, 'и': 19, 'к': 18, 'щ': 16, 'р': 15, 'ш': 15, 'ъ': 14, 'т': 13, 'ы': 12, 'м': 11, 'ф': 10, 'с': 8, 'ч': 7, 'з': 5, 'я': 5, 'п': 5, 'о': 4, 'д': 4, 'л': 3, 'э': 3, 'й': 3, 'е': 3, 'г': 2, 'б': 1, 'а': 1})\n",
      "Counter({'ы': 40, 'н': 29, 'т': 22, 'ш': 20, 'ъ': 19, 'я': 17, 'ю': 15, 'х': 14, 'й': 12, 'ь': 12, 'э': 12, 'с': 11, 'щ': 10, 'п': 10, 'а': 9, 'и': 9, 'м': 8, 'ф': 7, 'ц': 7, 'ч': 7, 'р': 5, 'к': 4, 'о': 3, 'в': 3, 'д': 3, 'г': 2, 'б': 1, 'ж': 1, 'л': 1, 'е': 1, 'у': 1})\n",
      "Counter({'а': 35, 'о': 34, 'н': 25, 'л': 21, 'е': 17, 'р': 17, 'в': 15, 'с': 15, 'т': 13, 'и': 13, 'м': 12, 'у': 11, 'к': 11, 'ь': 10, 'д': 9, 'я': 9, 'г': 8, 'п': 6, 'ы': 5, 'з': 5, 'й': 5, 'ч': 4, 'ш': 3, 'щ': 3, 'б': 3, 'х': 2, 'ж': 1, 'ц': 1, 'ф': 1, 'э': 1})\n",
      "Counter({'б': 34, 'п': 33, 'ж': 22, 'й': 21, 'у': 18, 'т': 18, 'м': 17, 'о': 16, 'с': 15, 'р': 13, 'г': 12, 'н': 12, 'ф': 9, 'е': 8, 'л': 8, 'в': 7, 'и': 7, 'ю': 7, 'э': 6, 'д': 5, 'ь': 5, 'я': 4, 'а': 4, 'ш': 3, 'к': 3, 'х': 3, 'щ': 2, 'ч': 1, 'ъ': 1, 'з': 1})\n",
      "Counter({'у': 39, 'к': 28, 'р': 24, 'е': 23, 'т': 19, 'ч': 17, 'п': 17, 'н': 16, 'ф': 16, 'х': 14, 'ц': 14, 'с': 13, 'з': 12, 'о': 8, 'й': 7, 'б': 6, 'а': 5, 'ж': 5, 'ь': 5, 'м': 5, 'д': 4, 'ш': 4, 'ъ': 2, 'г': 2, 'и': 2, 'э': 2, 'щ': 2, 'ю': 2, 'в': 1, 'л': 1})\n",
      "Counter({'х': 36, 'м': 32, 'п': 25, 'ч': 22, 'щ': 20, 'й': 17, 'ф': 16, 'з': 16, 'ъ': 15, 'ш': 15, 'л': 11, 'ц': 11, 'г': 10, 'у': 8, 'ж': 7, 'к': 7, 'т': 7, 'о': 6, 'с': 6, 'ю': 5, 'д': 5, 'р': 4, 'е': 3, 'ь': 2, 'н': 2, 'ы': 2, 'и': 1, 'я': 1, 'э': 1, 'а': 1, 'в': 1})\n",
      "Counter({'ю': 32, 'э': 29, 'р': 22, 'ъ': 20, 'ы': 20, 'а': 19, 'б': 19, 'т': 17, 'х': 17, 'ш': 15, 'в': 14, 'ь': 9, 'ф': 9, 'у': 8, 'з': 7, 'г': 7, 'м': 7, 'с': 6, 'и': 5, 'ч': 5, 'я': 5, 'п': 4, 'л': 3, 'ж': 3, 'ц': 3, 'о': 2, 'е': 2, 'щ': 2, 'д': 2, 'й': 1, 'н': 1})\n",
      "Counter({'о': 35, 'а': 30, 'и': 24, 'л': 19, 'н': 19, 'т': 19, 'е': 18, 'у': 14, 'р': 14, 'с': 13, 'ь': 12, 'к': 11, 'в': 11, 'з': 10, 'п': 9, 'ы': 6, 'д': 6, 'ч': 5, 'м': 5, 'б': 5, 'я': 4, 'г': 4, 'й': 4, 'ш': 3, 'х': 3, 'ц': 3, 'э': 3, 'щ': 2, 'ю': 1, 'ф': 1, 'ж': 1, 'ъ': 1})\n",
      "Counter({'х': 29, 'м': 27, 'п': 23, 'щ': 22, 'ф': 21, 'т': 20, 'з': 19, 'ш': 18, 'ч': 16, 'й': 16, 'л': 8, 'ж': 8, 'у': 8, 'ц': 7, 'ъ': 7, 'р': 6, 'с': 6, 'в': 6, 'и': 6, 'ь': 6, 'г': 6, 'к': 5, 'ю': 5, 'н': 5, 'я': 5, 'ы': 3, 'о': 2, 'э': 2, 'д': 2, 'е': 1})\n",
      "Counter({'щ': 32, 'л': 28, 'р': 25, 'э': 22, 'ш': 21, 'ц': 18, 'ь': 17, 'у': 16, 'х': 16, 'н': 14, 'ю': 14, 'ы': 11, 'ъ': 10, 'о': 9, 'ж': 9, 'п': 9, 'ч': 6, 'к': 6, 'ф': 5, 'т': 5, 'з': 5, 'в': 5, 'с': 4, 'г': 2, 'а': 2, 'и': 1, 'м': 1, 'д': 1, 'б': 1})\n",
      "Counter({'и': 32, 'ц': 32, 'н': 30, 'ъ': 25, 'к': 23, 'х': 21, 'у': 16, 'ш': 16, 'р': 12, 'ч': 11, 'щ': 11, 'ы': 11, 'т': 10, 'д': 10, 'ф': 10, 'п': 7, 'з': 6, 'г': 6, 'л': 6, 'с': 4, 'м': 4, 'о': 3, 'я': 3, 'й': 2, 'э': 1, 'ж': 1, 'а': 1})\n",
      "Counter({'е': 40, 'ь': 29, 'я': 27, 'ч': 24, 'д': 23, 'щ': 18, 'в': 18, 'з': 14, 'й': 14, 'г': 12, 'и': 12, 'б': 11, 'ъ': 10, 'ж': 9, 'ы': 6, 'ц': 6, 'т': 5, 'ю': 5, 'у': 5, 'о': 4, 'к': 4, 'п': 4, 'ш': 3, 'м': 2, 'н': 2, 'л': 2, 'а': 2, 'ф': 1, 'э': 1, 'х': 1})\n",
      "Counter({'ц': 33, 'н': 33, 'х': 25, 'щ': 18, 'у': 18, 'ш': 17, 'р': 16, 'и': 16, 'к': 14, 'т': 14, 'ъ': 12, 'л': 11, 'п': 10, 'м': 9, 'ф': 8, 'ы': 8, 'г': 7, 'з': 7, 'д': 7, 'ч': 6, 'с': 5, 'а': 4, 'й': 4, 'э': 4, 'е': 3, 'б': 2, 'я': 1, 'ю': 1, 'о': 1})\n",
      "Counter({'н': 36, 'я': 32, 'д': 31, 'м': 23, 'к': 18, 'р': 18, 'п': 16, 'й': 16, 'з': 13, 'т': 13, 'с': 12, 'л': 12, 'б': 11, 'ж': 9, 'а': 9, 'ы': 8, 'г': 7, 'в': 6, 'о': 6, 'ч': 4, 'и': 4, 'ъ': 2, 'ф': 2, 'ю': 2, 'ш': 1, 'ь': 1, 'е': 1, 'ц': 1})\n"
     ]
    },
    {
     "data": {
      "text/plain": [
       "'реыинтуезразлъчяя'"
      ]
     },
     "execution_count": 22,
     "metadata": {},
     "output_type": "execute_result"
    }
   ],
   "source": [
    "key_finder('variant13.txt', 17)"
   ]
  },
  {
   "cell_type": "markdown",
   "metadata": {},
   "source": [
    "Well, the key is not readable yet so lets look closer at the blocks where freqs of first and secomnd symbols are almost the same"
   ]
  },
  {
   "cell_type": "code",
   "execution_count": 23,
   "metadata": {},
   "outputs": [
    {
     "data": {
      "text/plain": [
       "'рединабезраюличия'"
      ]
     },
     "execution_count": 23,
     "metadata": {},
     "output_type": "execute_result"
    }
   ],
   "source": [
    "key_finder('variant13.txt', 17, debug = True, debug_var = 2)"
   ]
  },
  {
   "cell_type": "markdown",
   "metadata": {},
   "source": [
    "Two possible keys that we have are:\n",
    "    1. 'реыинтуезразлъчяя'\n",
    "    2. 'рединабезраюличия'\n",
    "We can conclude that result is something like 'рединабезразличия'. \n",
    "Lets dechifer text with this key and see if we are right"
   ]
  },
  {
   "cell_type": "code",
   "execution_count": 24,
   "metadata": {},
   "outputs": [
    {
     "name": "stdout",
     "output_type": "stream",
     "text": [
      "эускаваторприземисыыйидлинныйсловноыепловозсдалековыцесеннойсуставчатчйтягойичудовищныхзубатымковшомгусоницыглубоковминафисьвпочвуоставляидвенепрерывныерекристыедорожкиразищеесоляройлязгаювееоноперлонеразбсраядорогииготовокылосокрушитьвсенйсвоемпутионочудивегенералприроскмостуневсилахпошеволитьсяеслиэтоконырольныйсюрпризтолесемирочченьвысоуогообудущемведьмйкемненияапотомстщахизамешательствчнеожиданносхлынуфиосталосьтолькосшокойствиеиглубокйяуверенностьразухведьмакапустьдажоиначинающеговсерйвногибчеибыстрееыупыхинстинктовдиуоймашиныпобедитькесхитростнуюмощьхожноибезоружияодцойлишьсилоймыслиослизнаешькакгенещалзналпокатольколтеорииноведьвтомссостоитсмыслконтщольныхполевыхзадйнийвпривязкетеоротическихзнанийкроальнойобстановкечдновременномелькцулашальнаяивданндймоментмалоуместцаямыслишкавотзачомустроилииспытансевпустоминенаселонномпаркетакойэкъкаваторнагородсксхулицахстолькобылсегопорушилзадеситьлетнеотрослобыстакимеетсякарьерцыйгусеничныйэкскйватормоделимоделсачертегознаеткакчймоделимноготоннйялязгающаягромадснаповсейвидимостсоснащенабортовымуомпьютеромсвозмопностьюудаленногоноступаидистанциоцногоуправленияполсейвидимостивышлйизподконтроляиусшеланатворитьлихиюделвонэльфвесьокщовавленныйваляетъякстатипреттоонашрямонаэльфанадооывлечьгенералпрекщаснозналслабоемеътотакихмеханизмолнеповоротливостьшолзаюттакчточелолекнасвоихдвоихобмонитпоэтомуонсорлалсясместанабегушодхватилстравышмчтникипультсигануфчерезнекстатиподлернувшийсякустиокежалэкскаваторсловатотсразузамедлслсяивдругпроворнчвыпросталполусогцутыйдоселековшсхщустомпереломилосемолодоедеревцеслчвноспичкагенеральспелвовремяубратесянабезопасноераъстояниечудовищерйзворачивалосьготчвоеринутьсянапряаущегосявподлескеледьмачонкагенерафнеутратилхладнокщовиянапротивонужопросчиталкудаметцетсясейчасвоонтуназаогромныйстолеынийдубвнесколькочбхватовунегоподиыакиекорничтоиэксуаваторусходунесвчротитьжизньонавсогдасильнеежелезасмоторовивдругугецералапоявилсянежнанныйсоюзникмельунуласредиветвейиътволовкоричневозоленаякурточкаинелдалекепоказалсяевеодинэльфодетонбдлточнотакжекакинодавнийпациентгеноралановотличиеотшервогопребывалвпчлномздравииисохрйнностиивдругугеноралапоявилсянеждйнныйсоюзникмелькцуласредиветвейисыволовкоричневозефенаякурточкаиневналекепоказалсяещоодинэльфодетонбыфточнотакжекакиненавнийпациентгенещалановотличиеотпорвогопребывалвпофномздравииисохрацностипультутебякщикнулонгенералугонералмолчапоказафемучерныйначиненцыйэлектроникойбрскетаключтеперьгецералстольжевыразстельнопохлопалсекяпокарманукурткижльфсловноподземлзпровалилсяраствощилсянафонелиствыйпотомвозникужесолсемрядомвпарешагчввыскользнулиззаътволатогосамогодьбаэкскаваторгромдхалгусеницамиинаыужнолязгалковшомшробираясьсквозьпйркдеревьяжалобноырещалииломалисьрчждаласьноваяпросокаэльфтребователенопротянулрукуигонералнеколеблясьчтдалемупультсклюаоммедлитьэльфнесчбиралсятутжевсталилключведвапримеынующельнаторцепуфьтараздалсянегрохкийщелчокелеслышцыйнафонепроизводсмогоэкскаваторомбумапальцыэльфазашорхалинадклавиатьройпультивпрямьоаеньпоходилнаноуткукстойлишьразницойчтоэкранунегобыфсовсемкрохотныйищасполагалсяненаоыкиднойкрышкеапряхорядомсклавишамиурышкисобственноицебылововсеотвлексеговластноскоманновалэльфибеззвучцоканулвкустычтотчунеговидимонеладслосьгенералпослубнопотрусилпошироуойразмашистойдугоэкскаваторнакакоотовремяпритихотсфеживаяегоперемещонияапотомсталгрурноразворачиватьсиподгусеницамизахфюпалоонвъехалвоббирнуюотороченнуюххомлужугенералпофьзуясьмоментомшмдгнулмонструзакорхунаразворотутогоьйдетдовольномногчвременисравнителенобыстрогенералоыступилкобширнойолальнойполянепочехутоемубыложалкогсбнущиеподгусеницймииковшомдеревьялконцеконцовпаркиыакаяжечастьгородйкакикварталыаведемакобязанхранитьмородвесьцеликомашолянупустьутюжитшодумалонтраванедоревоещевэтомгодучтрастетнеуспелмоцстрвыползтикполяцкекакоткудатосбоуупоказалсядавешнсйэльфмелкойвихлязщейрысцойонприблсзилсякгенералуплчходелосообщилэльэонзаблокировалвсовходныепортынадофезтьвкабинугенерйлвдумчивошмыгнулцосоминичегонескаралдаичтоонмогскаратьатысобственноутопоинтересовалсиэльфведьмакчтолицачинающийуточнилменералскромнокакчйвыходпервыйнестйлвратьгенералэльэсаркастическихихскнулвезетжемневпщочемчегоэтояиначопришлосьбыводиноакукстатичтосраналеноромэтотвойприительнавсякийслучййсправилсягенерафкоторыйпультпотещялдаатыневиделлепитрядомсаллеейберсознанияунеговесебокразодраняегоажрозолемспрыснулвйшимэльфнахмурилсидавесамаэвыругалъяэльфонможетневынержатьтвойприятефьумиралкогдаянаногонаткнулсяулыбнотсясудьбавыживетъудьбаредкоулыбаеысяэльфамведьменыбзапомниэтогенерафсмолчалладнослушййменянужнозадуриыьэтоймахинеегопоманыенавигационныорецепторыипопастевкабинутымнепомопешьразужввязалсялэтоделобоюсьтамвуабинеоднойпарыруубудетмалоподеревеямлазатьумеешьумоюпошлиэльфзаткнуфбесполезныйпокапьльтзапоясштановинеловитозашагалкупевыбравшемусянапчлянуэкскаваторуоывлекайпоканапомнслонпобегайунегопоредмордойтолькосхотриподковшнеугониугубуркнулгенерйлкакможнобезразлсчнеебегатьпередмчрдойэкскаватораоуазалосьнастолькопеутомительнымзанитиемскольинебезошаснымпервоежезабоганиеедванезаконаилосьтрагическимчнстррезковыпрямифполусогнутыйковшчдновременноподавбисьвпередизаделпфечогенералатоткукаремполетелвтравьсовершенноошарашонныйещевпадениисчобразивчтопридетъямолниеносновскауиватьневзираянабчльиубиратьсяметрчвнадвадцатьвсторчнусообразилонпралильносдвухсекундцойзадержкойвместчгдеонприземлилсялпечаталсяковшпохчжийнагигантскийжолезныйкулак\n"
     ]
    }
   ],
   "source": [
    "decode_vigener('variant13.txt',  'рединабезразличия', print_text = True)"
   ]
  },
  {
   "cell_type": "code",
   "execution_count": 25,
   "metadata": {},
   "outputs": [],
   "source": [
    "alph='абвгдежзийклмнопрстуфхцчшщъыьэюя'"
   ]
  },
  {
   "cell_type": "code",
   "execution_count": 26,
   "metadata": {},
   "outputs": [
    {
     "name": "stdout",
     "output_type": "stream",
     "text": [
      "экскаваторприземистыйидлинныйсловнотепловозсдалековынесеннойсуставчатойтягойичудовищнымзубатымковшомгусеницыглубоковминалисьвпочвуоставляядвенепрерывныеребристыедорожкиразящеесоляройлязгающееоноперлонеразбираядорогииготовобылосокрушитьвсенасвоемпутионочудищегенералприроскместуневсилахпошевелитьсяеслиэтоконтрольныйсюрпризтовесемирочченьвысокогообудущемведьмакемненияапотомстрахизамешательствонеожиданносхлынулиосталосьтолькоспокойствиеиглубокаяуверенностьразумведьмакапустьдажеиначинающеговсеравногибчеибыстреетупыхинстинктовдикоймашиныпобедитьбесхитростнуюмощьможноибезоружияоднойлишьсилоймыслиеслизнаешькакгенералзналпокатольковтеорииноведьвтомисостоитсмыслконтрольныхполевыхзаданийвпривязкетеоретическихзнанийкреальнойобстановкеодновременномелькнулашальнаяивданныймоментмалоуместнаямыслишкавотзачемустроилииспытаниевпустоминенаселенномпаркетакойэкскаваторнагородскихулицахстолькобывсегопорушилзадесятьлетнеотрослобыитакимеетсякарьерныйгусеничныйэкскаватормоделимоделиачертегознаеткакоймоделимноготоннаялязгающаягромадинаповсейвидимостиоснащенабортовымкомпьютеромсвозможностьюудаленногодоступаидистанционногоуправленияповсейвидимостивышлаизподконтроляиуспеланатворитьлихихделвонэльфвесьокровавленныйваляетсякстатипреттоонапрямонаэльфанадоотвлечьгенералпрекраснозналслабоеместотакихмеханизмовнеповоротливостьползаюттакчточеловекнасвоихдвоихобгонитпоэтомуонсорвалсясместанабегуподхватилстравышмотникипультсиганулчерезнекстатиподвернувшийсякустиобежалэкскаваторслеватотсразузамедлилсяивдругпроворновыпросталполусогнутыйдоселековшсхрустомпереломилосьмолодоедеревцесловноспичкагенералуспелвовремяубратьсянабезопасноерасстояниечудовищеразворачивалосьготовоеринутьсянапрячущегосявподлескеведьмачонкагенералнеутратилхладнокровиянапротивонужепросчиталкудаметнетсясейчасвоонтудазаогромныйстолетнийдубвнесколькообхватовунегоподитакиекорничтоиэкскаваторусходунесворотитьжизньонавсегдасильнеежелезаимоторовивдругугенералапоявилсянежданныйсоюзникмелькнуласредиветвейистволовкоричневозеленаякурточкаиневдалекепоказалсяещеодинэльфодетонбылточнотакжекакинедавнийпациентгенералановотличиеотпервогопребывалвполномздравииисохранностиивдругугенералапоявилсянежданныйсоюзникмелькнуласредиветвейистволовкоричневозеленаякурточкаиневдалекепоказалсяещеодинэльфодетонбылточнотакжекакинедавнийпациентгенералановотличиеотпервогопребывалвполномздравииисохранностипультутебякрикнулонгенералугенералмолчапоказалемучерныйначиненныйэлектроникойбрикетаключтеперьгенералстольжевыразительнопохлопалсебяпокарманукурткиэльфсловноподземлюпровалилсярастворилсянафонелиствыапотомвозникужесовсемрядомвпарешаговвыскользнулиззастволатогосамогодубаэкскаваторгромыхалгусеницамиинатужнолязгалковшомпробираясьсквозьпаркдеревьяжалобнотрещалииломалисьрождаласьноваяпросекаэльфтребовательнопротянулрукуигенералнеколеблясьотдалемупультсключоммедлитьэльфнесобиралсятутжевставилключведваприметнующельнаторцепультараздалсянегромкийщелчокелеслышныйнафонепроизводимогоэкскаваторомшумапальцыэльфазапорхалинадклавиатуройпультивпрямьоченьпоходилнаноутбукстойлишьразницейчтоэкранунегобылсовсемкрохотныйирасполагалсяненаоткиднойкрышкеапряморядомсклавишамикрышкисобственноинебылововсеотвлекиеговластноскомандовалэльфибеззвучноканулвкустычтотоунеговидимонеладилосьгенералпослушнопотрусилпоширокойразмашистойдугеэкскаваторнакакоетовремяпритихотслеживаяегоперемещенияапотомсталгрузноразворачиватьсяподгусеницамизахлюпалоонвъехалвобширнуюотороченнуюмхомлужугенералпользуясьмоментомшмыгнулмонструзакормунаразворотутогоуйдетдовольномноговременисравнительнобыстрогенералотступилкобширнойовальнойполянепочемутоемубыложалкогибнущиеподгусеницамииковшомдеревьявконцеконцовпаркитакаяжечастьгородакакикварталыаведьмакобязанхранитьгородвесьцеликомаполянупустьутюжитподумалонтраванедеревоещевэтомгодуотрастетнеуспелмонстрвыползтикполянкекакоткудатосбокупоказалсядавешнийэльфмелкойвихляющейрысцойонприблизилсякгенералуплоходелосообщилэльфонзаблокировалвсевходныепортынадолезтьвкабинугенералвдумчивошмыгнулносоминичегонесказалдаичтоонмогсказатьатысобственноктопоинтересовалсяэльфведьмакчтолиначинающийуточнилгенералскромнокакойвыходпервыйнесталвратьгенералэльфсаркастическихихикнулвезетжемневпрочемчегоэтояиначепришлосьбыводиночкукстатичтосранавеноромэтотвойприятельнавсякийслучайсправилсягенералкоторыйпультпотерялдаатыневиделлежитрядомсаллеейбезсознанияунеговесьбокразодраняегоаэрозолемспрыснулвашимэльфнахмурилсядавесамаэвыругалсяэльфонможетневыдержатьтвойприятельумиралкогдаянанегонаткнулсяулыбнетсясудьбавыживетсудьбаредкоулыбаетсяэльфамведьменышзапомниэтогенералсмолчалладнослушайменянужнозадуритьэтоймахинеегопоганыенавигационныерецепторыипопастьвкабинутымнепоможешьразужввязалсявэтоделобоюсьтамвкабинеоднойпарырукбудетмалоподеревьямлазатьумеешьумеюпошлиэльфзаткнулбесполезныйпокапультзапоясштановиделовитозашагалкужевыбравшемусянаполянуэкскаваторуотвлекайпоканапомнилонпобегайунегопередмордойтолькосмотриподковшнеугодиугубуркнулгенералкакможнобезразличнеебегатьпередмордойэкскаватораоказалосьнастолькожеутомительнымзанятиемскольинебезопаснымпервоежезабеганиеедванезакончилосьтрагическимонстррезковыпрямилполусогнутыйковшодновременноподавшисьвпередизаделплечогенералатоткубаремполетелвтравусовершенноошарашенныйещевпадениисообразивчтопридетсямолниеносновскакиватьневзираянабольиубиратьсяметровнадвадцатьвсторонусообразилонправильносдвухсекунднойзадержкойвместогдеонприземлилсявпечаталсяковшпохожийнагигантскийжелезныйкулак\n"
     ]
    }
   ],
   "source": [
    "decode_vigener('variant13.txt',  'родинабезразличия', print_text = True)"
   ]
  },
  {
   "cell_type": "markdown",
   "metadata": {},
   "source": [
    "Having played with text a little, we found out that the right key is 'родинабезразличия' instead of 'рединабезразличия'. So we managed to decode the text fully."
   ]
  },
  {
   "cell_type": "code",
   "execution_count": null,
   "metadata": {},
   "outputs": [],
   "source": []
  }
 ],
 "metadata": {
  "kernelspec": {
   "display_name": "Python 3",
   "language": "python",
   "name": "python3"
  },
  "language_info": {
   "codemirror_mode": {
    "name": "ipython",
    "version": 3
   },
   "file_extension": ".py",
   "mimetype": "text/x-python",
   "name": "python",
   "nbconvert_exporter": "python",
   "pygments_lexer": "ipython3",
   "version": "3.6.7"
  }
 },
 "nbformat": 4,
 "nbformat_minor": 2
}
